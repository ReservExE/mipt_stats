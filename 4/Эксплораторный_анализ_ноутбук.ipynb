{
  "nbformat": 4,
  "nbformat_minor": 0,
  "metadata": {
    "colab": {
      "provenance": []
    },
    "kernelspec": {
      "name": "python3",
      "display_name": "Python 3"
    },
    "language_info": {
      "name": "python"
    }
  },
  "cells": [
    {
      "cell_type": "code",
      "execution_count": null,
      "metadata": {
        "id": "Ou_E_Mvgj8Az"
      },
      "outputs": [],
      "source": [
        "# Импорт необходимых библиотек\n",
        "import pandas as pd\n",
        "import numpy as np\n",
        "import matplotlib.pyplot as plt\n",
        "import seaborn as sns\n",
        "from scipy import stats"
      ]
    },
    {
      "cell_type": "code",
      "source": [
        "# Загрузка данных (здесь можно использовать любой набор данных)\n",
        "data = pd.read_csv('your_dataset.csv')\n"
      ],
      "metadata": {
        "id": "13zIrmEAkI8B"
      },
      "execution_count": null,
      "outputs": []
    },
    {
      "cell_type": "code",
      "source": [
        "# Вывод первых строк данных для обзора\n",
        "print(data.head())"
      ],
      "metadata": {
        "id": "6Pe8FVL5kLMo"
      },
      "execution_count": null,
      "outputs": []
    },
    {
      "cell_type": "code",
      "source": [
        "# Визуализация различных типов данных с использованием Seaborn\n",
        "sns.pairplot(data)\n",
        "plt.show()"
      ],
      "metadata": {
        "id": "EdfCxh7WkMwz"
      },
      "execution_count": null,
      "outputs": []
    },
    {
      "cell_type": "code",
      "source": [
        "# Обработка пропущенных значений (заполнение медианным значением)\n",
        "data.fillna(data.median(), inplace=True)"
      ],
      "metadata": {
        "id": "e9K0rhkokOO4"
      },
      "execution_count": null,
      "outputs": []
    },
    {
      "cell_type": "code",
      "source": [
        "# Простой корреляционный анализ\n",
        "correlation_matrix = data.corr()\n",
        "sns.heatmap(correlation_matrix, annot=True)\n",
        "plt.show()"
      ],
      "metadata": {
        "id": "-oOkzt3ukPoe"
      },
      "execution_count": null,
      "outputs": []
    },
    {
      "cell_type": "code",
      "source": [
        "# Применение t-теста для сравнения двух групп (предположим, у вас есть колонка 'group')\n",
        "group1 = data[data['group'] == 'A']['value_column']\n",
        "group2 = data[data['group'] == 'B']['value_column']\n",
        "t_stat, p_val = stats.ttest_ind(group1, group2)"
      ],
      "metadata": {
        "id": "rSO28d-6kRh4"
      },
      "execution_count": null,
      "outputs": []
    },
    {
      "cell_type": "code",
      "source": [
        "print(f\"t-statistic: {t_stat}, p-value: {p_val}\")\n",
        "\n",
        "# Дополнительные анализы и визуализации могут быть добавлены здесь\n"
      ],
      "metadata": {
        "id": "Eui-_938kS9R"
      },
      "execution_count": null,
      "outputs": []
    },
    {
      "cell_type": "code",
      "source": [
        "\n",
        "import statsmodels.api as sm\n",
        "\n",
        "X = sm.add_constant(data['feature1']) # Независимая переменная\n",
        "y = data['feature2'] # Зависимая переменная"
      ],
      "metadata": {
        "id": "kpTkq5KmkUtW"
      },
      "execution_count": null,
      "outputs": []
    },
    {
      "cell_type": "code",
      "source": [
        "import plotly.express as px\n",
        "\n",
        "fig = px.scatter(data, x='feature1', y='feature2', color='group', size='size_feature', hover_data=['additional_feature'])\n",
        "fig.show()"
      ],
      "metadata": {
        "id": "IW2Hbc2KkXPd"
      },
      "execution_count": null,
      "outputs": []
    },
    {
      "cell_type": "code",
      "source": [
        "\n",
        "from sklearn.feature_extraction.text import TfidfVectorizer\n",
        "\n",
        "# Векторизация текстового столбца\n",
        "text_data = data['text_column']\n",
        "vectorizer = TfidfVectorizer()\n",
        "text_features = vectorizer.fit_transform(text_data)\n",
        "\n",
        "# Можете использовать text_features для дальнейшего анализа"
      ],
      "metadata": {
        "id": "gB0VNC0PkYt_"
      },
      "execution_count": null,
      "outputs": []
    }
  ]
}